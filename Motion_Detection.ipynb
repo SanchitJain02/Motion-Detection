{
 "cells": [
  {
   "cell_type": "code",
   "execution_count": 2,
   "id": "cf95e7e7",
   "metadata": {},
   "outputs": [],
   "source": [
    "import cv2\n",
    "import winsound"
   ]
  },
  {
   "cell_type": "code",
   "execution_count": 3,
   "id": "66c8211a",
   "metadata": {},
   "outputs": [],
   "source": [
    "cam = cv2.VideoCapture(0)"
   ]
  },
  {
   "cell_type": "code",
   "execution_count": 4,
   "id": "48f9799e",
   "metadata": {},
   "outputs": [
    {
     "data": {
      "text/plain": [
       "<function destroyAllWindows>"
      ]
     },
     "execution_count": 4,
     "metadata": {},
     "output_type": "execute_result"
    }
   ],
   "source": [
    "while cam.isOpened():\n",
    "    ret,frame1 = cam.read()\n",
    "    ret,frame2 = cam.read()\n",
    "    diff = cv2.absdiff(frame1,frame2)\n",
    "    gray = cv2.cvtColor(diff,cv2.COLOR_BGR2GRAY)\n",
    "    blur = cv2.GaussianBlur(gray,(5,5),0)\n",
    "    _,thresh = cv2.threshold(blur,20,255,cv2.THRESH_BINARY)\n",
    "    dilated = cv2.dilate(thresh,None,iterations = 3)\n",
    "    contours,_ = cv2.findContours(dilated, cv2.RETR_TREE, cv2.CHAIN_APPROX_SIMPLE)\n",
    " #    cv2.drawContours(frame1,contours,-1,(0,255,0),2)\n",
    "    for c in contours:\n",
    "        if cv2.contourArea(c) < 5000:\n",
    "            continue\n",
    "        x,y,w,h = cv2.boundingRect(c)\n",
    "        cv2.rectangle(frame1,(x,y),(x+w,y+h),(0,255,0),2)\n",
    "        winsound.Beep(500,200)\n",
    "    key = cv2.waitKey(1) & 0xFF\n",
    "    \n",
    "    if key==ord(\"q\"):\n",
    "        break    \n",
    "    cv2.imshow(\"Security Cam\",frame1)  \n",
    "    \n",
    "cam.release()        \n",
    "cv2.destroyAllWindows   "
   ]
  },
  {
   "cell_type": "code",
   "execution_count": null,
   "id": "8f3a5dc8",
   "metadata": {},
   "outputs": [],
   "source": []
  }
 ],
 "metadata": {
  "kernelspec": {
   "display_name": "Python 3",
   "language": "python",
   "name": "python3"
  },
  "language_info": {
   "codemirror_mode": {
    "name": "ipython",
    "version": 3
   },
   "file_extension": ".py",
   "mimetype": "text/x-python",
   "name": "python",
   "nbconvert_exporter": "python",
   "pygments_lexer": "ipython3",
   "version": "3.8.8"
  }
 },
 "nbformat": 4,
 "nbformat_minor": 5
}
